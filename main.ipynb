{
 "cells": [
  {
   "cell_type": "code",
   "execution_count": 1,
   "metadata": {},
   "outputs": [
    {
     "name": "stderr",
     "output_type": "stream",
     "text": [
      "c:\\Users\\Ethan\\anaconda3\\envs\\project_cv_1\\Lib\\site-packages\\tqdm\\auto.py:21: TqdmWarning: IProgress not found. Please update jupyter and ipywidgets. See https://ipywidgets.readthedocs.io/en/stable/user_install.html\n",
      "  from .autonotebook import tqdm as notebook_tqdm\n"
     ]
    }
   ],
   "source": [
    "#libraries \n",
    "from youtube_api.ytchannel import Ytchannel\n",
    "from youtube_api.ytvideo import Ytvideo\n",
    "from nlp.nlp_ner import NER\n",
    "from etl.etlner import EtlNER\n",
    "from youtube_api.transcribe import Transcribe\n",
    "from nlp.nlp_sa import SA\n",
    "from etl.etlsa import EtlSA\n",
    "from etl.etldf import EtlDF\n",
    "\n"
   ]
  },
  {
   "cell_type": "code",
   "execution_count": 2,
   "metadata": {},
   "outputs": [],
   "source": [
    "# initialisation\n",
    "\n",
    "#initialising\n",
    "channel_manage = Ytchannel()\n",
    "video_manage = Ytvideo()\n",
    "nlp_ner = NER()\n",
    "nlp_sa = SA()\n",
    "etlner_manage = EtlNER()\n",
    "scribe_manage = Transcribe()\n",
    "etlsa_manage = EtlSA()\n",
    "etldf = EtlDF()\n",
    "id = 'UCVjlpEjEY9GpksqbEesJnNA'\n",
    "\n",
    "\n"
   ]
  },
  {
   "cell_type": "code",
   "execution_count": 3,
   "metadata": {},
   "outputs": [
    {
     "name": "stderr",
     "output_type": "stream",
     "text": [
      "c:\\Users\\Ethan\\anaconda3\\envs\\project_cv_1\\Lib\\site-packages\\transformers\\pipelines\\text_classification.py:104: UserWarning: `return_all_scores` is now deprecated,  if want a similar functionality use `top_k=None` instead of `return_all_scores=True` or `top_k=1` instead of `return_all_scores=False`.\n",
      "  warnings.warn(\n",
      "Xformers is not installed correctly. If you want to use memory_efficient_attention to accelerate training use the following command to install Xformers\n",
      "pip install xformers.\n"
     ]
    },
    {
     "name": "stdout",
     "output_type": "stream",
     "text": [
      "job: 1 /1 done.\n"
     ]
    },
    {
     "name": "stderr",
     "output_type": "stream",
     "text": [
      "Some weights of the model checkpoint at dslim/bert-base-NER were not used when initializing BertForTokenClassification: ['bert.pooler.dense.bias', 'bert.pooler.dense.weight']\n",
      "- This IS expected if you are initializing BertForTokenClassification from the checkpoint of a model trained on another task or with another architecture (e.g. initializing a BertForSequenceClassification model from a BertForPreTraining model).\n",
      "- This IS NOT expected if you are initializing BertForTokenClassification from the checkpoint of a model that you expect to be exactly identical (initializing a BertForSequenceClassification model from a BertForSequenceClassification model).\n"
     ]
    },
    {
     "name": "stdout",
     "output_type": "stream",
     "text": [
      "job: 1 /1 done.\n"
     ]
    }
   ],
   "source": [
    "\"\"\" testing 1 video \"\"\"\n",
    "# meta\n",
    "location = channel_manage.get_videos(id)\n",
    "meta = video_manage.export_info(location)\n",
    "\n",
    "#transcribe\n",
    "captions = scribe_manage.get_captions(meta,1)\n",
    "\n",
    "#sa\n",
    "sa_raw = nlp_sa.sa(captions,1)\n",
    "sa_data = etlsa_manage.direct_etl(sa_raw)\n",
    "\n",
    "# ner\n",
    "ner_raw = nlp_ner.ner(captions,1)\n",
    "ner_data = etlner_manage.direct_etl(ner_raw)\n"
   ]
  },
  {
   "cell_type": "code",
   "execution_count": 4,
   "metadata": {},
   "outputs": [],
   "source": [
    "mdf = etldf.meta_dataframe(meta)"
   ]
  },
  {
   "cell_type": "code",
   "execution_count": 5,
   "metadata": {},
   "outputs": [
    {
     "name": "stdout",
     "output_type": "stream",
     "text": [
      "<class 'pandas.core.frame.DataFrame'>\n",
      "RangeIndex: 50 entries, 0 to 49\n",
      "Data columns (total 9 columns):\n",
      " #   Column           Non-Null Count  Dtype  \n",
      "---  ------           --------------  -----  \n",
      " 0   ID               50 non-null     object \n",
      " 1   Title            50 non-null     object \n",
      " 2   Duration         50 non-null     object \n",
      " 3   Views            50 non-null     int64  \n",
      " 4   Likes            50 non-null     int64  \n",
      " 5   Comments         50 non-null     int64  \n",
      " 6   LikesPerView     50 non-null     float64\n",
      " 7   CommentsPerView  50 non-null     float64\n",
      " 8   LikesPerComment  50 non-null     float64\n",
      "dtypes: float64(3), int64(3), object(3)\n",
      "memory usage: 3.6+ KB\n",
      "None\n"
     ]
    }
   ],
   "source": [
    "print(mdf.info())"
   ]
  },
  {
   "cell_type": "code",
   "execution_count": null,
   "metadata": {},
   "outputs": [],
   "source": []
  }
 ],
 "metadata": {
  "kernelspec": {
   "display_name": "project_cv_1",
   "language": "python",
   "name": "python3"
  },
  "language_info": {
   "codemirror_mode": {
    "name": "ipython",
    "version": 3
   },
   "file_extension": ".py",
   "mimetype": "text/x-python",
   "name": "python",
   "nbconvert_exporter": "python",
   "pygments_lexer": "ipython3",
   "version": "3.11.4"
  },
  "orig_nbformat": 4
 },
 "nbformat": 4,
 "nbformat_minor": 2
}
